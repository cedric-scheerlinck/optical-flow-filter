{
 "cells": [
  {
   "cell_type": "markdown",
   "metadata": {
    "deletable": true,
    "editable": true
   },
   "source": [
    "# Using GPU Optical Flow Filter in Python"
   ]
  },
  {
   "cell_type": "markdown",
   "metadata": {
    "deletable": true,
    "editable": true
   },
   "source": [
    "This notebook illustrates how to use the GPU implementation of the optical flow filter in Python."
   ]
  },
  {
   "cell_type": "markdown",
   "metadata": {
    "deletable": true,
    "editable": true
   },
   "source": [
    "## 1. Installation"
   ]
  },
  {
   "cell_type": "markdown",
   "metadata": {
    "deletable": true,
    "editable": true
   },
   "source": [
    "Please follow the installation instructions provided in the **README.md** file in the [GitHub]( https://github.com/jadarve/optical-flow-filter) repository to install the C++ library and Python modules."
   ]
  },
  {
   "cell_type": "code",
   "execution_count": 4,
   "metadata": {
    "collapsed": false,
    "deletable": true,
    "editable": true
   },
   "outputs": [
    {
     "name": "stdout",
     "output_type": "stream",
     "text": [
      "Populating the interactive namespace from numpy and matplotlib\n"
     ]
    }
   ],
   "source": [
    "%pylab inline"
   ]
  },
  {
   "cell_type": "code",
   "execution_count": 5,
   "metadata": {
    "collapsed": false,
    "deletable": true,
    "editable": true
   },
   "outputs": [],
   "source": [
    "import scipy.misc as misc\n",
    "import scipy.ndimage as ndimage\n",
    "\n",
    "import numpy as np\n",
    "import numpy.linalg as la\n",
    "\n",
    "import matplotlib.pyplot as plt\n",
    "\n",
    "import flowfilter.plot as fplot\n",
    "import flowfilter.gpu.flowfilters as gpufilter\n",
    "\n",
    "import cv2"
   ]
  },
  {
   "cell_type": "markdown",
   "metadata": {
    "deletable": true,
    "editable": true
   },
   "source": [
    "## 2. Error performance\n",
    "\n",
    "The following piece computes optical flow using a **PyramidalFlowFilter** filter object. The filter is configured to 2 image pyramid levels and maximum optical flow of 4 pixels. [2, 4] smooth iterations are performed for at each pyramid level.\n",
    "\n",
    "The computed flow is compared to ground truth data produced for this sequence using Blender."
   ]
  },
  {
   "cell_type": "code",
   "execution_count": 6,
   "metadata": {
    "collapsed": false,
    "deletable": true,
    "editable": true,
    "scrolled": false
   },
   "outputs": [
    {
     "name": "stderr",
     "output_type": "stream",
     "text": [
      "/home/cedric/.local/lib/python2.7/site-packages/ipykernel/__main__.py:43: FutureWarning: comparison to `None` will result in an elementwise object comparison in the future.\n",
      "/home/cedric/.local/lib/python2.7/site-packages/ipykernel/__main__.py:49: FutureWarning: comparison to `None` will result in an elementwise object comparison in the future.\n"
     ]
    },
    {
     "ename": "KeyboardInterrupt",
     "evalue": "",
     "output_type": "error",
     "traceback": [
      "\u001b[0;31m---------------------------------------------------------------------------\u001b[0m",
      "\u001b[0;31mKeyboardInterrupt\u001b[0m                         Traceback (most recent call last)",
      "\u001b[0;32m<ipython-input-6-9df9fa5af899>\u001b[0m in \u001b[0;36m<module>\u001b[0;34m()\u001b[0m\n\u001b[1;32m     39\u001b[0m         \u001b[0mimg\u001b[0m \u001b[0;34m=\u001b[0m \u001b[0mndimage\u001b[0m\u001b[0;34m.\u001b[0m\u001b[0mgaussian_filter\u001b[0m\u001b[0;34m(\u001b[0m\u001b[0mimg_temp\u001b[0m\u001b[0;34m,\u001b[0m \u001b[0msigma\u001b[0m\u001b[0;34m=\u001b[0m\u001b[0;34m(\u001b[0m\u001b[0;36m2\u001b[0m\u001b[0;34m,\u001b[0m\u001b[0;36m2\u001b[0m\u001b[0;34m)\u001b[0m\u001b[0;34m,\u001b[0m \u001b[0morder\u001b[0m\u001b[0;34m=\u001b[0m\u001b[0;36m0\u001b[0m\u001b[0;34m)\u001b[0m\u001b[0;34m\u001b[0m\u001b[0m\n\u001b[1;32m     40\u001b[0m     \u001b[0;32melse\u001b[0m\u001b[0;34m:\u001b[0m\u001b[0;34m\u001b[0m\u001b[0m\n\u001b[0;32m---> 41\u001b[0;31m         \u001b[0mimg\u001b[0m \u001b[0;34m=\u001b[0m \u001b[0mmisc\u001b[0m\u001b[0;34m.\u001b[0m\u001b[0mimread\u001b[0m\u001b[0;34m(\u001b[0m\u001b[0mimgpath\u001b[0m\u001b[0;34m.\u001b[0m\u001b[0mformat\u001b[0m\u001b[0;34m(\u001b[0m\u001b[0mk\u001b[0m\u001b[0;34m)\u001b[0m\u001b[0;34m,\u001b[0m \u001b[0mflatten\u001b[0m\u001b[0;34m=\u001b[0m\u001b[0mTrue\u001b[0m\u001b[0;34m)\u001b[0m\u001b[0;34m.\u001b[0m\u001b[0mastype\u001b[0m\u001b[0;34m(\u001b[0m\u001b[0mnp\u001b[0m\u001b[0;34m.\u001b[0m\u001b[0muint8\u001b[0m\u001b[0;34m)\u001b[0m\u001b[0;34m\u001b[0m\u001b[0m\n\u001b[0m\u001b[1;32m     42\u001b[0m \u001b[0;34m\u001b[0m\u001b[0m\n\u001b[1;32m     43\u001b[0m     \u001b[0mgpuF\u001b[0m\u001b[0;34m.\u001b[0m\u001b[0mloadImage\u001b[0m\u001b[0;34m(\u001b[0m\u001b[0mimg\u001b[0m\u001b[0;34m)\u001b[0m\u001b[0;34m\u001b[0m\u001b[0m\n",
      "\u001b[0;32m/usr/local/lib/python2.7/dist-packages/scipy/misc/pilutil.pyc\u001b[0m in \u001b[0;36mimread\u001b[0;34m(name, flatten, mode)\u001b[0m\n\u001b[1;32m    155\u001b[0m \u001b[0;34m\u001b[0m\u001b[0m\n\u001b[1;32m    156\u001b[0m     \u001b[0mim\u001b[0m \u001b[0;34m=\u001b[0m \u001b[0mImage\u001b[0m\u001b[0;34m.\u001b[0m\u001b[0mopen\u001b[0m\u001b[0;34m(\u001b[0m\u001b[0mname\u001b[0m\u001b[0;34m)\u001b[0m\u001b[0;34m\u001b[0m\u001b[0m\n\u001b[0;32m--> 157\u001b[0;31m     \u001b[0;32mreturn\u001b[0m \u001b[0mfromimage\u001b[0m\u001b[0;34m(\u001b[0m\u001b[0mim\u001b[0m\u001b[0;34m,\u001b[0m \u001b[0mflatten\u001b[0m\u001b[0;34m=\u001b[0m\u001b[0mflatten\u001b[0m\u001b[0;34m,\u001b[0m \u001b[0mmode\u001b[0m\u001b[0;34m=\u001b[0m\u001b[0mmode\u001b[0m\u001b[0;34m)\u001b[0m\u001b[0;34m\u001b[0m\u001b[0m\n\u001b[0m\u001b[1;32m    158\u001b[0m \u001b[0;34m\u001b[0m\u001b[0m\n\u001b[1;32m    159\u001b[0m \u001b[0;34m\u001b[0m\u001b[0m\n",
      "\u001b[0;32m/usr/local/lib/python2.7/dist-packages/scipy/misc/pilutil.pyc\u001b[0m in \u001b[0;36mfromimage\u001b[0;34m(im, flatten, mode)\u001b[0m\n\u001b[1;32m    242\u001b[0m \u001b[0;34m\u001b[0m\u001b[0m\n\u001b[1;32m    243\u001b[0m     \u001b[0;32mif\u001b[0m \u001b[0mflatten\u001b[0m\u001b[0;34m:\u001b[0m\u001b[0;34m\u001b[0m\u001b[0m\n\u001b[0;32m--> 244\u001b[0;31m         \u001b[0mim\u001b[0m \u001b[0;34m=\u001b[0m \u001b[0mim\u001b[0m\u001b[0;34m.\u001b[0m\u001b[0mconvert\u001b[0m\u001b[0;34m(\u001b[0m\u001b[0;34m'F'\u001b[0m\u001b[0;34m)\u001b[0m\u001b[0;34m\u001b[0m\u001b[0m\n\u001b[0m\u001b[1;32m    245\u001b[0m     \u001b[0;32melif\u001b[0m \u001b[0mim\u001b[0m\u001b[0;34m.\u001b[0m\u001b[0mmode\u001b[0m \u001b[0;34m==\u001b[0m \u001b[0;34m'1'\u001b[0m\u001b[0;34m:\u001b[0m\u001b[0;34m\u001b[0m\u001b[0m\n\u001b[1;32m    246\u001b[0m         \u001b[0;31m# Workaround for crash in PIL. When im is 1-bit, the call array(im)\u001b[0m\u001b[0;34m\u001b[0m\u001b[0;34m\u001b[0m\u001b[0m\n",
      "\u001b[0;32m/usr/lib/python2.7/dist-packages/PIL/Image.pyc\u001b[0m in \u001b[0;36mconvert\u001b[0;34m(self, mode, matrix, dither, palette, colors)\u001b[0m\n\u001b[1;32m    840\u001b[0m                 \u001b[0;32mreturn\u001b[0m \u001b[0mself\u001b[0m\u001b[0;34m.\u001b[0m\u001b[0mcopy\u001b[0m\u001b[0;34m(\u001b[0m\u001b[0;34m)\u001b[0m\u001b[0;34m\u001b[0m\u001b[0m\n\u001b[1;32m    841\u001b[0m \u001b[0;34m\u001b[0m\u001b[0m\n\u001b[0;32m--> 842\u001b[0;31m         \u001b[0mself\u001b[0m\u001b[0;34m.\u001b[0m\u001b[0mload\u001b[0m\u001b[0;34m(\u001b[0m\u001b[0;34m)\u001b[0m\u001b[0;34m\u001b[0m\u001b[0m\n\u001b[0m\u001b[1;32m    843\u001b[0m \u001b[0;34m\u001b[0m\u001b[0m\n\u001b[1;32m    844\u001b[0m         \u001b[0;32mif\u001b[0m \u001b[0mmatrix\u001b[0m\u001b[0;34m:\u001b[0m\u001b[0;34m\u001b[0m\u001b[0m\n",
      "\u001b[0;32m/usr/lib/python2.7/dist-packages/PIL/ImageFile.pyc\u001b[0m in \u001b[0;36mload\u001b[0;34m(self)\u001b[0m\n\u001b[1;32m    197\u001b[0m                 \u001b[0;32mwhile\u001b[0m \u001b[0mTrue\u001b[0m\u001b[0;34m:\u001b[0m\u001b[0;34m\u001b[0m\u001b[0m\n\u001b[1;32m    198\u001b[0m                     \u001b[0;32mtry\u001b[0m\u001b[0;34m:\u001b[0m\u001b[0;34m\u001b[0m\u001b[0m\n\u001b[0;32m--> 199\u001b[0;31m                         \u001b[0ms\u001b[0m \u001b[0;34m=\u001b[0m \u001b[0mread\u001b[0m\u001b[0;34m(\u001b[0m\u001b[0mself\u001b[0m\u001b[0;34m.\u001b[0m\u001b[0mdecodermaxblock\u001b[0m\u001b[0;34m)\u001b[0m\u001b[0;34m\u001b[0m\u001b[0m\n\u001b[0m\u001b[1;32m    200\u001b[0m                     \u001b[0;32mexcept\u001b[0m \u001b[0;34m(\u001b[0m\u001b[0mIndexError\u001b[0m\u001b[0;34m,\u001b[0m \u001b[0mstruct\u001b[0m\u001b[0;34m.\u001b[0m\u001b[0merror\u001b[0m\u001b[0;34m)\u001b[0m\u001b[0;34m:\u001b[0m  \u001b[0;31m# truncated png/gif\u001b[0m\u001b[0;34m\u001b[0m\u001b[0m\n\u001b[1;32m    201\u001b[0m                         \u001b[0;32mif\u001b[0m \u001b[0mLOAD_TRUNCATED_IMAGES\u001b[0m\u001b[0;34m:\u001b[0m\u001b[0;34m\u001b[0m\u001b[0m\n",
      "\u001b[0;31mKeyboardInterrupt\u001b[0m: "
     ]
    }
   ],
   "source": [
    "# paths to image and ground truth data\n",
    "basepath = '/home/cedric/Documents/phd/data/DJI/DJI_forest_raw/down/low_res/d2/' \n",
    "imgpath = basepath + '{0:04d}.png'\n",
    "# gtpath = basepath + 'of_{0:04d}.npy'\n",
    "\n",
    "blur_toggle = False\n",
    "# GPU filter object with 2 pyramid levels\n",
    "\n",
    "# set image resolution\n",
    "image1 = np.array([480, 640])\n",
    "res_DJI = np.array([720, 1280])\n",
    "low_res_DJI = np.array([360, 640])\n",
    "# imdim = image1\n",
    "imdim = low_res_DJI\n",
    "\n",
    "gpuF = gpufilter.PyramidalFlowFilter(imdim[0], imdim[1], 3)\n",
    "gpuF.gamma = [20, 20, 50]                                   # gains for each level\n",
    "gpuF.maxflow = 8.0                                      # maximum optical flow value\n",
    "gpuF.smoothIterations = [2, 2, 4]                          # smooth iterations per level\n",
    "\n",
    "# print('maxflow: {0}'.format(gpuF.maxflow))\n",
    "offset = 1\n",
    "K = 6310\n",
    "\n",
    "avgET = np.zeros(K)\n",
    "for k in range(offset, offset + K):\n",
    "    \n",
    "    # filename = 'output' + '{0:04d}.txt'\n",
    "    # f = open(filename.format(k), 'w')\n",
    "    \n",
    "    ##########################################\n",
    "    # COMPUTATION\n",
    "    ##########################################\n",
    "    \n",
    "    # read and load next image to the filter\n",
    "    if blur_toggle:\n",
    "        img_temp = misc.imread(imgpath.format(k), flatten=True).astype(np.uint8) \n",
    "        # introduce gaussian blur\n",
    "        img = ndimage.gaussian_filter(img_temp, sigma=(2,2), order=0)\n",
    "    else:\n",
    "        img = misc.imread(imgpath.format(k), flatten=True).astype(np.uint8)\n",
    "        \n",
    "    gpuF.loadImage(img)\n",
    "    \n",
    "    # compute new estimate of optical flow\n",
    "    gpuF.compute()\n",
    "    \n",
    "    # return a Numpy ndarray with the new optical flow estimation\n",
    "    flow = gpuF.getFlow()\n",
    "       \n",
    "    # np.savetxt(filename.format(k),flow)\n",
    "    \n",
    "    # runtime in milliseconds\n",
    "    avgET[k - offset] = gpuF.elapsedTime()\n",
    "    \n",
    "    \n",
    "    ##########################################\n",
    "    # PLOT RESULTS\n",
    "    ##########################################\n",
    "    \n",
    "    # ground truth flow\n",
    "    # flowGT = np.load(gtpath.format(k))\n",
    "    \n",
    "    # EndPoint error\n",
    "    # epError = la.norm(flow - flowGT, axis=2)\n",
    "    if False:\n",
    "        fig = plt.figure(figsize=(12,2.2)); fig.set_tight_layout(True)\n",
    "    \n",
    "        plt.subplot2grid((1,4), (0,0))\n",
    "        plt.imshow(img, vmin=0, vmax=255, cmap=plt.cm.get_cmap('gray'))\n",
    "        plt.title('k = {0}'.format(k))\n",
    "        plt.colorbar()\n",
    "    \n",
    "        plt.subplot2grid((1,4), (0,1))\n",
    "        plt.imshow(fplot.flowToColor(flowGT, 3.0)); plt.title('Ground truth')\n",
    "    \n",
    "        plt.subplot2grid((1,4), (0,2))\n",
    "        plt.imshow(fplot.flowToColor(flow, 3.0)); plt.title('Flow-filter')\n",
    "                                                                 \n",
    "        plt.subplot2grid((1,4), (0,3))\n",
    "        plt.imshow(epError, vmin=0, vmax=1, cmap=plt.cm.get_cmap('gray'))\n",
    "        plt.title('error')\n",
    "        plt.colorbar()\n",
    "\n",
    "        plt.show()\n",
    "        \n",
    "    # write to file here\n",
    "    writefile = '/home/cedric/Documents/phd/data/DJI/DJI_forest_raw/down/low_res/d2_flow/' + '{0:04d}.png'\n",
    "    cv2.imwrite(writefile.format(k), fplot.flowToColor(flow, gpuF.maxflow, 1))\n",
    "    \n",
    "print('average elapsed time: {0} ms'.format(np.average(avgET)))"
   ]
  },
  {
   "cell_type": "markdown",
   "metadata": {
    "deletable": true,
    "editable": true
   },
   "source": [
    "## 3. Runtime performance"
   ]
  },
  {
   "cell_type": "markdown",
   "metadata": {
    "deletable": true,
    "editable": true
   },
   "source": [
    "The following code snippet measures the average runtime performance of the algorithm. For this, it creates a **PyramidalFlowFilter** object configured with the same parameters as the experiment above.\n",
    "\n",
    "The parameters that affect runtime performance are:\n",
    "\n",
    "  * **Pyramid levels**\n",
    "  * **maxflow** Maximum optical flow allowed in the filter. This parameter directly affects the number of iterations required for the numerical implementation of the prediction stage of the filter.\n",
    "  * **smooth iterations** Smooth iterations, with average filter, applied after the update stage of the filter.\n",
    "  \n",
    "**NOTE**: The measured runtime through the Python wrappers is affected by the overhead of running the Python code. Faster runtimes can be expected in a pure C++ application."
   ]
  },
  {
   "cell_type": "code",
   "execution_count": 3,
   "metadata": {
    "collapsed": false,
    "deletable": true,
    "editable": true
   },
   "outputs": [
    {
     "ename": "NameError",
     "evalue": "name 'gpufilter' is not defined",
     "output_type": "error",
     "traceback": [
      "\u001b[0;31m---------------------------------------------------------------------------\u001b[0m",
      "\u001b[0;31mNameError\u001b[0m                                 Traceback (most recent call last)",
      "\u001b[0;32m<ipython-input-3-3a7a8707ee91>\u001b[0m in \u001b[0;36m<module>\u001b[0;34m()\u001b[0m\n\u001b[1;32m      2\u001b[0m \u001b[0;34m\u001b[0m\u001b[0m\n\u001b[1;32m      3\u001b[0m \u001b[0;31m# GPU implementation\u001b[0m\u001b[0;34m\u001b[0m\u001b[0;34m\u001b[0m\u001b[0m\n\u001b[0;32m----> 4\u001b[0;31m \u001b[0mgpuF\u001b[0m \u001b[0;34m=\u001b[0m \u001b[0mgpufilter\u001b[0m\u001b[0;34m.\u001b[0m\u001b[0mPyramidalFlowFilter\u001b[0m\u001b[0;34m(\u001b[0m\u001b[0;36m480\u001b[0m\u001b[0;34m,\u001b[0m \u001b[0;36m640\u001b[0m\u001b[0;34m,\u001b[0m \u001b[0;36m2\u001b[0m\u001b[0;34m)\u001b[0m\u001b[0;34m\u001b[0m\u001b[0m\n\u001b[0m\u001b[1;32m      5\u001b[0m \u001b[0mgpuF\u001b[0m\u001b[0;34m.\u001b[0m\u001b[0mgamma\u001b[0m \u001b[0;34m=\u001b[0m \u001b[0;34m[\u001b[0m\u001b[0;36m10\u001b[0m\u001b[0;34m,\u001b[0m \u001b[0;36m50\u001b[0m\u001b[0;34m]\u001b[0m\u001b[0;34m\u001b[0m\u001b[0m\n\u001b[1;32m      6\u001b[0m \u001b[0mgpuF\u001b[0m\u001b[0;34m.\u001b[0m\u001b[0mmaxflow\u001b[0m \u001b[0;34m=\u001b[0m \u001b[0;36m4.0\u001b[0m\u001b[0;34m\u001b[0m\u001b[0m\n",
      "\u001b[0;31mNameError\u001b[0m: name 'gpufilter' is not defined"
     ]
    }
   ],
   "source": [
    "K = 1000\n",
    "\n",
    "# GPU implementation\n",
    "gpuF = gpufilter.PyramidalFlowFilter(480, 640, 2)\n",
    "gpuF.gamma = [10, 50]\n",
    "gpuF.maxflow = 4.0\n",
    "gpuF.smoothIterations = [2, 4]\n",
    "\n",
    "# zeros image to feed the algorithm\n",
    "img = np.zeros((480, 640), dtype=np.uint8)\n",
    "\n",
    "avgET = np.zeros(K)\n",
    "\n",
    "for k in range(K):\n",
    "\n",
    "    gpuF.loadImage(img)\n",
    "    gpuF.compute()\n",
    "    \n",
    "    # compute time in milliseconds\n",
    "    avgET[k] = gpuF.elapsedTime()\n",
    "    \n",
    "\n",
    "    \n",
    "print('average elapsed time: {0} ms'.format(np.average(avgET)))\n",
    "\n",
    "plt.figure(figsize=(10,3))\n",
    "plt.plot(avgET)\n",
    "plt.title('Elapsed time (ms)')\n",
    "plt.show()"
   ]
  },
  {
   "cell_type": "markdown",
   "metadata": {
    "deletable": true,
    "editable": true
   },
   "source": [
    "## 4. References\n",
    "\n",
    "    @Article{2016_Adarve_RAL,\n",
    "      Title                    = {A Filter Formulation for Computing Real Time Optical Flow},\n",
    "      Author                   = {{Juan David} Adarve and Robert Mahony},\n",
    "      Journal                  = {Robotics and Automation Letters},\n",
    "      Year                     = {2016}\n",
    "    }"
   ]
  },
  {
   "cell_type": "code",
   "execution_count": null,
   "metadata": {
    "collapsed": true,
    "deletable": true,
    "editable": true
   },
   "outputs": [],
   "source": []
  },
  {
   "cell_type": "code",
   "execution_count": null,
   "metadata": {
    "collapsed": true,
    "deletable": true,
    "editable": true
   },
   "outputs": [],
   "source": []
  },
  {
   "cell_type": "code",
   "execution_count": null,
   "metadata": {
    "collapsed": true,
    "deletable": true,
    "editable": true
   },
   "outputs": [],
   "source": []
  }
 ],
 "metadata": {
  "kernelspec": {
   "display_name": "Python 2",
   "language": "python",
   "name": "python2"
  },
  "language_info": {
   "codemirror_mode": {
    "name": "ipython",
    "version": 2
   },
   "file_extension": ".py",
   "mimetype": "text/x-python",
   "name": "python",
   "nbconvert_exporter": "python",
   "pygments_lexer": "ipython2",
   "version": "2.7.12"
  }
 },
 "nbformat": 4,
 "nbformat_minor": 0
}
