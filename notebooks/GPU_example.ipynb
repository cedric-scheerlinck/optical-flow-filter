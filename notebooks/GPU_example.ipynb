{
 "cells": [
  {
   "cell_type": "markdown",
   "metadata": {
    "deletable": true,
    "editable": true
   },
   "source": [
    "# Using GPU Optical Flow Filter in Python"
   ]
  },
  {
   "cell_type": "markdown",
   "metadata": {
    "deletable": true,
    "editable": true
   },
   "source": [
    "This notebook illustrates how to use the GPU implementation of the optical flow filter in Python."
   ]
  },
  {
   "cell_type": "markdown",
   "metadata": {
    "deletable": true,
    "editable": true
   },
   "source": [
    "## 1. Installation"
   ]
  },
  {
   "cell_type": "markdown",
   "metadata": {
    "deletable": true,
    "editable": true
   },
   "source": [
    "Please follow the installation instructions provided in the **README.md** file in the [GitHub]( https://github.com/jadarve/optical-flow-filter) repository to install the C++ library and Python modules."
   ]
  },
  {
   "cell_type": "code",
   "execution_count": 3,
   "metadata": {
    "collapsed": false,
    "deletable": true,
    "editable": true
   },
   "outputs": [
    {
     "name": "stdout",
     "output_type": "stream",
     "text": [
      "Populating the interactive namespace from numpy and matplotlib\n"
     ]
    }
   ],
   "source": [
    "%pylab inline"
   ]
  },
  {
   "cell_type": "code",
   "execution_count": 7,
   "metadata": {
    "collapsed": true
   },
   "outputs": [],
   "source": [
    "import scipy.misc as misc\n",
    "import scipy.ndimage as ndimage\n",
    "\n",
    "import numpy as np\n",
    "import numpy.linalg as la\n",
    "\n",
    "import matplotlib.pyplot as plt\n",
    "\n",
    "import flowfilter.plot as fplot\n",
    "import flowfilter.gpu.flowfilters as gpufilter\n",
    "\n",
    "import cv2\n",
    "\n",
    "import copy"
   ]
  },
  {
   "cell_type": "markdown",
   "metadata": {
    "deletable": true,
    "editable": true
   },
   "source": [
    "## 2. Error performance\n",
    "\n",
    "The following piece computes optical flow using a **PyramidalFlowFilter** filter object. The filter is configured to 2 image pyramid levels and maximum optical flow of 4 pixels. [2, 4] smooth iterations are performed for at each pyramid level.\n",
    "\n",
    "The computed flow is compared to ground truth data produced for this sequence using Blender."
   ]
  },
  {
   "cell_type": "code",
   "execution_count": 8,
   "metadata": {
    "collapsed": true
   },
   "outputs": [],
   "source": [
    "# paths to image and ground truth data\n",
    "basepath = '/home/cedric/Documents/phd/data/matlab/brightness_correction/d4/img/' \n",
    "imgpath = basepath + '{0:04d}.png'\n",
    "# gtpath = basepath + 'of_{0:04d}.npy'"
   ]
  },
  {
   "cell_type": "code",
   "execution_count": 9,
   "metadata": {
    "collapsed": false
   },
   "outputs": [
    {
     "data": {
      "text/plain": [
       "[2026,\n",
       " 2027,\n",
       " 2028,\n",
       " 2430,\n",
       " 2431,\n",
       " 2432,\n",
       " 2759,\n",
       " 2760,\n",
       " 2761,\n",
       " 2762,\n",
       " 2763,\n",
       " 3023,\n",
       " 3024,\n",
       " 3025,\n",
       " 3528,\n",
       " 3529,\n",
       " 3530,\n",
       " 3531]"
      ]
     },
     "execution_count": 9,
     "metadata": {},
     "output_type": "execute_result"
    }
   ],
   "source": [
    "# correct brightness\n",
    "offset = 1\n",
    "K = 3911\n",
    "mean_int = []\n",
    "for k in range(offset, offset + K):\n",
    "    \n",
    "    img_g = cv2.imread(imgpath.format(k), 0)\n",
    "    mean_int.append(np.mean(img_g))\n",
    "    \n",
    "mean_int_temp = copy.deepcopy(mean_int)\n",
    "\n",
    "bad_inds = []\n",
    "for i in range(1,len(mean_int_temp)):\n",
    "    if np.abs(mean_int_temp[i] - mean_int_temp[i - 1]) > 1.4:\n",
    "        bad_inds.append(i + 1)\n",
    "        mean_int_temp[i] = mean_int_temp[i - 1]\n",
    "        \n",
    "plt.plot(range(0,len(mean_int_temp)), mean_int_temp, '.')\n",
    "plt.show()\n",
    "    \n"
   ]
  },
  {
   "cell_type": "code",
   "execution_count": 11,
   "metadata": {
    "collapsed": true
   },
   "outputs": [],
   "source": [
    "blur_toggle = False\n",
    "# GPU filter object with 2 pyramid levels\n",
    "\n",
    "# set image resolution\n",
    "image1 = np.array([480, 640])\n",
    "res_DJI = np.array([720, 1280])\n",
    "low_res_DJI = np.array([360, 640])\n",
    "# imdim = image1\n",
    "imdim = res_DJI\n",
    "\n",
    "gpuF = gpufilter.PyramidalFlowFilter(imdim[0], imdim[1], 3)\n",
    "gpuF.gamma = [20, 20, 50]                                   # gains for each level\n",
    "gpuF.maxflow = 8.0                                      # maximum optical flow value\n",
    "gpuF.smoothIterations = [2, 2, 4]                          # smooth iterations per level\n",
    "\n",
    "# print('maxflow: {0}'.format(gpuF.maxflow))\n",
    "\n",
    "avgET = np.zeros(K)\n",
    "\n",
    "inds = [i for i in range(offset, offset + K)]\n",
    "\n",
    "for i in bad_inds:\n",
    "#     inds.remove(i)\n",
    "    # idea is to remove file and copy previous frame :P"
   ]
  },
  {
   "cell_type": "code",
   "execution_count": 12,
   "metadata": {
    "collapsed": false,
    "deletable": true,
    "editable": true,
    "scrolled": false
   },
   "outputs": [
    {
     "name": "stderr",
     "output_type": "stream",
     "text": [
      "/home/cedric/.local/lib/python2.7/site-packages/ipykernel/__main__.py:20: FutureWarning: comparison to `None` will result in an elementwise object comparison in the future.\n",
      "/home/cedric/.local/lib/python2.7/site-packages/ipykernel/__main__.py:26: FutureWarning: comparison to `None` will result in an elementwise object comparison in the future.\n"
     ]
    },
    {
     "name": "stdout",
     "output_type": "stream",
     "text": [
      "average elapsed time: 4.15441877999 ms\n"
     ]
    }
   ],
   "source": [
    "counter = 0\n",
    "# for k in range(offset, offset + K):\n",
    "for k in inds:\n",
    "    counter +=1\n",
    "    # filename = 'output' + '{0:04d}.txt'\n",
    "    # f = open(filename.format(k), 'w')\n",
    "    \n",
    "    ##########################################\n",
    "    # COMPUTATION\n",
    "    ##########################################\n",
    "    \n",
    "    # read and load next image to the filter\n",
    "    if blur_toggle:\n",
    "        img_temp = misc.imread(imgpath.format(k), flatten=True).astype(np.uint8) \n",
    "        # introduce gaussian blur\n",
    "        img = ndimage.gaussian_filter(img_temp, sigma=(2,2), order=0)\n",
    "    else:\n",
    "        img = misc.imread(imgpath.format(k), flatten=True).astype(np.uint8)\n",
    "        \n",
    "    gpuF.loadImage(img)\n",
    "    \n",
    "    # compute new estimate of optical flow\n",
    "    gpuF.compute()\n",
    "    \n",
    "    # return a Numpy ndarray with the new optical flow estimation\n",
    "    flow = gpuF.getFlow()\n",
    "       \n",
    "    # np.savetxt(filename.format(k),flow)\n",
    "    \n",
    "    # runtime in milliseconds\n",
    "    avgET[k - offset] = gpuF.elapsedTime()\n",
    "    \n",
    "    \n",
    "    ##########################################\n",
    "    # PLOT RESULTS\n",
    "    ##########################################\n",
    "    \n",
    "    # ground truth flow\n",
    "    # flowGT = np.load(gtpath.format(k))\n",
    "    \n",
    "    # EndPoint error\n",
    "    # epError = la.norm(flow - flowGT, axis=2)\n",
    "    if False:\n",
    "        fig = plt.figure(figsize=(12,2.2)); fig.set_tight_layout(True)\n",
    "    \n",
    "        plt.subplot2grid((1,4), (0,0))\n",
    "        plt.imshow(img, vmin=0, vmax=255, cmap=plt.cm.get_cmap('gray'))\n",
    "        plt.title('k = {0}'.format(k))\n",
    "        plt.colorbar()\n",
    "    \n",
    "        plt.subplot2grid((1,4), (0,1))\n",
    "        plt.imshow(fplot.flowToColor(flowGT, 3.0)); plt.title('Ground truth')\n",
    "    \n",
    "        plt.subplot2grid((1,4), (0,2))\n",
    "        plt.imshow(fplot.flowToColor(flow, 3.0)); plt.title('Flow-filter')\n",
    "                                                                 \n",
    "        plt.subplot2grid((1,4), (0,3))\n",
    "        plt.imshow(epError, vmin=0, vmax=1, cmap=plt.cm.get_cmap('gray'))\n",
    "        plt.title('error')\n",
    "        plt.colorbar()\n",
    "\n",
    "        plt.show()\n",
    "        \n",
    "    # write to file here\n",
    "    writefile = '/home/cedric/Documents/phd/data/matlab/brightness_correction/d4_flow/' + '{0:04d}.png'\n",
    "    cv2.imwrite(writefile.format(counter), fplot.flowToColor(flow, gpuF.maxflow, 1))\n",
    "    \n",
    "print('average elapsed time: {0} ms'.format(np.average(avgET)))"
   ]
  },
  {
   "cell_type": "markdown",
   "metadata": {
    "deletable": true,
    "editable": true
   },
   "source": [
    "## 3. Runtime performance"
   ]
  },
  {
   "cell_type": "markdown",
   "metadata": {
    "deletable": true,
    "editable": true
   },
   "source": [
    "The following code snippet measures the average runtime performance of the algorithm. For this, it creates a **PyramidalFlowFilter** object configured with the same parameters as the experiment above.\n",
    "\n",
    "The parameters that affect runtime performance are:\n",
    "\n",
    "  * **Pyramid levels**\n",
    "  * **maxflow** Maximum optical flow allowed in the filter. This parameter directly affects the number of iterations required for the numerical implementation of the prediction stage of the filter.\n",
    "  * **smooth iterations** Smooth iterations, with average filter, applied after the update stage of the filter.\n",
    "  \n",
    "**NOTE**: The measured runtime through the Python wrappers is affected by the overhead of running the Python code. Faster runtimes can be expected in a pure C++ application."
   ]
  },
  {
   "cell_type": "code",
   "execution_count": 3,
   "metadata": {
    "collapsed": false,
    "deletable": true,
    "editable": true
   },
   "outputs": [
    {
     "ename": "NameError",
     "evalue": "name 'gpufilter' is not defined",
     "output_type": "error",
     "traceback": [
      "\u001b[0;31m---------------------------------------------------------------------------\u001b[0m",
      "\u001b[0;31mNameError\u001b[0m                                 Traceback (most recent call last)",
      "\u001b[0;32m<ipython-input-3-3a7a8707ee91>\u001b[0m in \u001b[0;36m<module>\u001b[0;34m()\u001b[0m\n\u001b[1;32m      2\u001b[0m \u001b[0;34m\u001b[0m\u001b[0m\n\u001b[1;32m      3\u001b[0m \u001b[0;31m# GPU implementation\u001b[0m\u001b[0;34m\u001b[0m\u001b[0;34m\u001b[0m\u001b[0m\n\u001b[0;32m----> 4\u001b[0;31m \u001b[0mgpuF\u001b[0m \u001b[0;34m=\u001b[0m \u001b[0mgpufilter\u001b[0m\u001b[0;34m.\u001b[0m\u001b[0mPyramidalFlowFilter\u001b[0m\u001b[0;34m(\u001b[0m\u001b[0;36m480\u001b[0m\u001b[0;34m,\u001b[0m \u001b[0;36m640\u001b[0m\u001b[0;34m,\u001b[0m \u001b[0;36m2\u001b[0m\u001b[0;34m)\u001b[0m\u001b[0;34m\u001b[0m\u001b[0m\n\u001b[0m\u001b[1;32m      5\u001b[0m \u001b[0mgpuF\u001b[0m\u001b[0;34m.\u001b[0m\u001b[0mgamma\u001b[0m \u001b[0;34m=\u001b[0m \u001b[0;34m[\u001b[0m\u001b[0;36m10\u001b[0m\u001b[0;34m,\u001b[0m \u001b[0;36m50\u001b[0m\u001b[0;34m]\u001b[0m\u001b[0;34m\u001b[0m\u001b[0m\n\u001b[1;32m      6\u001b[0m \u001b[0mgpuF\u001b[0m\u001b[0;34m.\u001b[0m\u001b[0mmaxflow\u001b[0m \u001b[0;34m=\u001b[0m \u001b[0;36m4.0\u001b[0m\u001b[0;34m\u001b[0m\u001b[0m\n",
      "\u001b[0;31mNameError\u001b[0m: name 'gpufilter' is not defined"
     ]
    }
   ],
   "source": [
    "K = 1000\n",
    "\n",
    "# GPU implementation\n",
    "gpuF = gpufilter.PyramidalFlowFilter(480, 640, 2)\n",
    "gpuF.gamma = [10, 50]\n",
    "gpuF.maxflow = 4.0\n",
    "gpuF.smoothIterations = [2, 4]\n",
    "\n",
    "# zeros image to feed the algorithm\n",
    "img = np.zeros((480, 640), dtype=np.uint8)\n",
    "\n",
    "avgET = np.zeros(K)\n",
    "\n",
    "for k in range(K):\n",
    "\n",
    "    gpuF.loadImage(img)\n",
    "    gpuF.compute()\n",
    "    \n",
    "    # compute time in milliseconds\n",
    "    avgET[k] = gpuF.elapsedTime()\n",
    "    \n",
    "\n",
    "    \n",
    "print('average elapsed time: {0} ms'.format(np.average(avgET)))\n",
    "\n",
    "plt.figure(figsize=(10,3))\n",
    "plt.plot(avgET)\n",
    "plt.title('Elapsed time (ms)')\n",
    "plt.show()"
   ]
  },
  {
   "cell_type": "markdown",
   "metadata": {
    "deletable": true,
    "editable": true
   },
   "source": [
    "## 4. References\n",
    "\n",
    "    @Article{2016_Adarve_RAL,\n",
    "      Title                    = {A Filter Formulation for Computing Real Time Optical Flow},\n",
    "      Author                   = {{Juan David} Adarve and Robert Mahony},\n",
    "      Journal                  = {Robotics and Automation Letters},\n",
    "      Year                     = {2016}\n",
    "    }"
   ]
  },
  {
   "cell_type": "code",
   "execution_count": null,
   "metadata": {
    "collapsed": true,
    "deletable": true,
    "editable": true
   },
   "outputs": [],
   "source": []
  },
  {
   "cell_type": "code",
   "execution_count": null,
   "metadata": {
    "collapsed": true,
    "deletable": true,
    "editable": true
   },
   "outputs": [],
   "source": []
  },
  {
   "cell_type": "code",
   "execution_count": null,
   "metadata": {
    "collapsed": true,
    "deletable": true,
    "editable": true
   },
   "outputs": [],
   "source": []
  }
 ],
 "metadata": {
  "kernelspec": {
   "display_name": "Python 2",
   "language": "python",
   "name": "python2"
  },
  "language_info": {
   "codemirror_mode": {
    "name": "ipython",
    "version": 2
   },
   "file_extension": ".py",
   "mimetype": "text/x-python",
   "name": "python",
   "nbconvert_exporter": "python",
   "pygments_lexer": "ipython2",
   "version": "2.7.12"
  }
 },
 "nbformat": 4,
 "nbformat_minor": 0
}
